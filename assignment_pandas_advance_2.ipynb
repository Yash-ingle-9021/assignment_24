{
 "cells": [
  {
   "cell_type": "code",
   "execution_count": 1,
   "id": "b8a18b27-9583-4c8b-bd3d-790d240a7eb9",
   "metadata": {},
   "outputs": [
    {
     "name": "stdout",
     "output_type": "stream",
     "text": [
      "* ASSIGNMENT_PANDAS_ADVANCE_2 *\n"
     ]
    }
   ],
   "source": [
    "print(\"* ASSIGNMENT_PANDAS_ADVANCE_2 *\")"
   ]
  },
  {
   "cell_type": "code",
   "execution_count": 9,
   "id": "75d48444-edc8-4061-8b5e-4ecfd5b666c0",
   "metadata": {},
   "outputs": [],
   "source": [
    "import pandas as pd"
   ]
  },
  {
   "cell_type": "code",
   "execution_count": 10,
   "id": "2ee1efca-d2ad-4094-8181-6d8203fb3f75",
   "metadata": {},
   "outputs": [],
   "source": [
    "import numpy as np"
   ]
  },
  {
   "cell_type": "code",
   "execution_count": 4,
   "id": "5ce93115-4c9e-46b3-9e46-42504e56bf15",
   "metadata": {},
   "outputs": [
    {
     "name": "stdout",
     "output_type": "stream",
     "text": [
      "Q_1_ANS:- \n"
     ]
    }
   ],
   "source": [
    "print(\"Q_1_ANS:- \")"
   ]
  },
  {
   "cell_type": "code",
   "execution_count": 5,
   "id": "93b0eefd-bb38-483e-a190-cfad2604f2e9",
   "metadata": {},
   "outputs": [],
   "source": [
    "course_name = ['Data Science' , 'Machine Learning' , 'Big Data' , 'Data Engineer']\n",
    "duration = [2,3,6,4]\n",
    "df= pd.DataFrame({'course_name':course_name,'duration':duration})"
   ]
  },
  {
   "cell_type": "code",
   "execution_count": 6,
   "id": "1a15fd98-3797-401c-9e79-76feddc24ace",
   "metadata": {},
   "outputs": [
    {
     "data": {
      "text/html": [
       "<div>\n",
       "<style scoped>\n",
       "    .dataframe tbody tr th:only-of-type {\n",
       "        vertical-align: middle;\n",
       "    }\n",
       "\n",
       "    .dataframe tbody tr th {\n",
       "        vertical-align: top;\n",
       "    }\n",
       "\n",
       "    .dataframe thead th {\n",
       "        text-align: right;\n",
       "    }\n",
       "</style>\n",
       "<table border=\"1\" class=\"dataframe\">\n",
       "  <thead>\n",
       "    <tr style=\"text-align: right;\">\n",
       "      <th></th>\n",
       "      <th>course_name</th>\n",
       "      <th>duration</th>\n",
       "    </tr>\n",
       "  </thead>\n",
       "  <tbody>\n",
       "    <tr>\n",
       "      <th>0</th>\n",
       "      <td>Data Science</td>\n",
       "      <td>2</td>\n",
       "    </tr>\n",
       "    <tr>\n",
       "      <th>1</th>\n",
       "      <td>Machine Learning</td>\n",
       "      <td>3</td>\n",
       "    </tr>\n",
       "    <tr>\n",
       "      <th>2</th>\n",
       "      <td>Big Data</td>\n",
       "      <td>6</td>\n",
       "    </tr>\n",
       "    <tr>\n",
       "      <th>3</th>\n",
       "      <td>Data Engineer</td>\n",
       "      <td>4</td>\n",
       "    </tr>\n",
       "  </tbody>\n",
       "</table>\n",
       "</div>"
      ],
      "text/plain": [
       "        course_name  duration\n",
       "0      Data Science         2\n",
       "1  Machine Learning         3\n",
       "2          Big Data         6\n",
       "3     Data Engineer         4"
      ]
     },
     "execution_count": 6,
     "metadata": {},
     "output_type": "execute_result"
    }
   ],
   "source": [
    "df"
   ]
  },
  {
   "cell_type": "code",
   "execution_count": 7,
   "id": "9d8c6392-2b7f-49f8-8185-2f58d708f6ed",
   "metadata": {},
   "outputs": [
    {
     "name": "stdout",
     "output_type": "stream",
     "text": [
      "        course_name  duration\n",
      "1  Machine Learning         3\n"
     ]
    }
   ],
   "source": [
    "print(df.iloc[[1]])"
   ]
  },
  {
   "cell_type": "code",
   "execution_count": 8,
   "id": "444288b3-f173-4f81-bd0d-8e7f0a971778",
   "metadata": {},
   "outputs": [
    {
     "name": "stdout",
     "output_type": "stream",
     "text": [
      "Q_2_ANS:- loc() :- The loc() function is label based data selecting method which means that we have to pass the name of the row or column which we want to select. This method includes the last element of the range passed in it, unlike iloc(). loc() can accept the boolean data unlike iloc().\n",
      "\n",
      "iloc() :- The iloc() function is an indexed-based selecting method which means that we have to pass an integer index in the method to select a specific row/column. This method does not include the last element of the range passed in it unlike loc(). iloc() does not accept the boolean data unlike loc().  \n"
     ]
    }
   ],
   "source": [
    "print(\"Q_2_ANS:- loc() :- The loc() function is label based data selecting method which means that we have to pass the name of the row or column which we want to select. This method includes the last element of the range passed in it, unlike iloc(). loc() can accept the boolean data unlike iloc().\\n\\niloc() :- The iloc() function is an indexed-based selecting method which means that we have to pass an integer index in the method to select a specific row/column. This method does not include the last element of the range passed in it unlike loc(). iloc() does not accept the boolean data unlike loc().  \")"
   ]
  },
  {
   "cell_type": "code",
   "execution_count": 9,
   "id": "e8d6d809-d7f6-4123-8992-af66c1c68452",
   "metadata": {},
   "outputs": [
    {
     "name": "stdout",
     "output_type": "stream",
     "text": [
      "Q_3_ANS:- \n"
     ]
    }
   ],
   "source": [
    "print(\"Q_3_ANS:- \")"
   ]
  },
  {
   "cell_type": "code",
   "execution_count": 10,
   "id": "6694463b-8b81-4df1-aca3-cb0c7ae03ff6",
   "metadata": {},
   "outputs": [],
   "source": [
    "new_df = df.reindex([3,0,1,2])"
   ]
  },
  {
   "cell_type": "code",
   "execution_count": 11,
   "id": "a15f018a-b491-4808-bbe1-019bd6adb20b",
   "metadata": {},
   "outputs": [
    {
     "data": {
      "text/html": [
       "<div>\n",
       "<style scoped>\n",
       "    .dataframe tbody tr th:only-of-type {\n",
       "        vertical-align: middle;\n",
       "    }\n",
       "\n",
       "    .dataframe tbody tr th {\n",
       "        vertical-align: top;\n",
       "    }\n",
       "\n",
       "    .dataframe thead th {\n",
       "        text-align: right;\n",
       "    }\n",
       "</style>\n",
       "<table border=\"1\" class=\"dataframe\">\n",
       "  <thead>\n",
       "    <tr style=\"text-align: right;\">\n",
       "      <th></th>\n",
       "      <th>course_name</th>\n",
       "      <th>duration</th>\n",
       "    </tr>\n",
       "  </thead>\n",
       "  <tbody>\n",
       "    <tr>\n",
       "      <th>3</th>\n",
       "      <td>Data Engineer</td>\n",
       "      <td>4</td>\n",
       "    </tr>\n",
       "    <tr>\n",
       "      <th>0</th>\n",
       "      <td>Data Science</td>\n",
       "      <td>2</td>\n",
       "    </tr>\n",
       "    <tr>\n",
       "      <th>1</th>\n",
       "      <td>Machine Learning</td>\n",
       "      <td>3</td>\n",
       "    </tr>\n",
       "    <tr>\n",
       "      <th>2</th>\n",
       "      <td>Big Data</td>\n",
       "      <td>6</td>\n",
       "    </tr>\n",
       "  </tbody>\n",
       "</table>\n",
       "</div>"
      ],
      "text/plain": [
       "        course_name  duration\n",
       "3     Data Engineer         4\n",
       "0      Data Science         2\n",
       "1  Machine Learning         3\n",
       "2          Big Data         6"
      ]
     },
     "execution_count": 11,
     "metadata": {},
     "output_type": "execute_result"
    }
   ],
   "source": [
    "new_df"
   ]
  },
  {
   "cell_type": "code",
   "execution_count": 12,
   "id": "e4e6b3ae-b1bb-4ced-9bf7-1d856351ee80",
   "metadata": {},
   "outputs": [
    {
     "data": {
      "text/plain": [
       "course_name    Big Data\n",
       "duration              6\n",
       "Name: 2, dtype: object"
      ]
     },
     "execution_count": 12,
     "metadata": {},
     "output_type": "execute_result"
    }
   ],
   "source": [
    "new_df.loc[2]"
   ]
  },
  {
   "cell_type": "code",
   "execution_count": 13,
   "id": "6174ae20-2c1a-470e-979d-d63d7da83d73",
   "metadata": {},
   "outputs": [
    {
     "name": "stdout",
     "output_type": "stream",
     "text": [
      "The loc() function is label based data selecting method which means that we have to pass the name of the row or column which we want to select. This method includes the last element of the range passed in it, unlike iloc(). loc() can accept the boolean data unlike iloc().\n"
     ]
    }
   ],
   "source": [
    "print(\"The loc() function is label based data selecting method which means that we have to pass the name of the row or column which we want to select. This method includes the last element of the range passed in it, unlike iloc(). loc() can accept the boolean data unlike iloc().\")"
   ]
  },
  {
   "cell_type": "code",
   "execution_count": 14,
   "id": "f41e7888-a549-4cef-8ad4-1aad7c536956",
   "metadata": {},
   "outputs": [
    {
     "data": {
      "text/plain": [
       "course_name    Machine Learning\n",
       "duration                      3\n",
       "Name: 1, dtype: object"
      ]
     },
     "execution_count": 14,
     "metadata": {},
     "output_type": "execute_result"
    }
   ],
   "source": [
    "new_df.iloc[2]"
   ]
  },
  {
   "cell_type": "code",
   "execution_count": 15,
   "id": "7ca1a2b8-ceb8-416d-aafe-286a5cb98ff2",
   "metadata": {},
   "outputs": [
    {
     "name": "stdout",
     "output_type": "stream",
     "text": [
      "The iloc() function is an indexed-based selecting method which means that we have to pass an integer index in the method to select a specific row/column. This method does not include the last element of the range passed in it unlike loc(). iloc() does not accept the boolean data unlike loc(). \n"
     ]
    }
   ],
   "source": [
    "print(\"The iloc() function is an indexed-based selecting method which means that we have to pass an integer index in the method to select a specific row/column. This method does not include the last element of the range passed in it unlike loc(). iloc() does not accept the boolean data unlike loc(). \")"
   ]
  },
  {
   "cell_type": "code",
   "execution_count": 16,
   "id": "1851f182-637a-4c4d-88ee-7a19c53d2c19",
   "metadata": {},
   "outputs": [],
   "source": [
    "columns = ['column_1','column_2','column_3','column_4','column_5','column_6']\n",
    "indices = [1,2,3,4,5,6]\n",
    "df1 = pd.DataFrame(np.random.rand(6,6), columns = columns, index = indices)"
   ]
  },
  {
   "cell_type": "code",
   "execution_count": 17,
   "id": "a71a1f95-11f6-4a53-9881-8801017e2c52",
   "metadata": {},
   "outputs": [
    {
     "data": {
      "text/html": [
       "<div>\n",
       "<style scoped>\n",
       "    .dataframe tbody tr th:only-of-type {\n",
       "        vertical-align: middle;\n",
       "    }\n",
       "\n",
       "    .dataframe tbody tr th {\n",
       "        vertical-align: top;\n",
       "    }\n",
       "\n",
       "    .dataframe thead th {\n",
       "        text-align: right;\n",
       "    }\n",
       "</style>\n",
       "<table border=\"1\" class=\"dataframe\">\n",
       "  <thead>\n",
       "    <tr style=\"text-align: right;\">\n",
       "      <th></th>\n",
       "      <th>column_1</th>\n",
       "      <th>column_2</th>\n",
       "      <th>column_3</th>\n",
       "      <th>column_4</th>\n",
       "      <th>column_5</th>\n",
       "      <th>column_6</th>\n",
       "    </tr>\n",
       "  </thead>\n",
       "  <tbody>\n",
       "    <tr>\n",
       "      <th>1</th>\n",
       "      <td>0.527965</td>\n",
       "      <td>0.450380</td>\n",
       "      <td>0.335064</td>\n",
       "      <td>0.750702</td>\n",
       "      <td>0.724437</td>\n",
       "      <td>0.220331</td>\n",
       "    </tr>\n",
       "    <tr>\n",
       "      <th>2</th>\n",
       "      <td>0.138438</td>\n",
       "      <td>0.859205</td>\n",
       "      <td>0.576562</td>\n",
       "      <td>0.384365</td>\n",
       "      <td>0.934960</td>\n",
       "      <td>0.608641</td>\n",
       "    </tr>\n",
       "    <tr>\n",
       "      <th>3</th>\n",
       "      <td>0.664067</td>\n",
       "      <td>0.891863</td>\n",
       "      <td>0.290135</td>\n",
       "      <td>0.946281</td>\n",
       "      <td>0.191536</td>\n",
       "      <td>0.489732</td>\n",
       "    </tr>\n",
       "    <tr>\n",
       "      <th>4</th>\n",
       "      <td>0.907930</td>\n",
       "      <td>0.990685</td>\n",
       "      <td>0.436894</td>\n",
       "      <td>0.191321</td>\n",
       "      <td>0.674117</td>\n",
       "      <td>0.497952</td>\n",
       "    </tr>\n",
       "    <tr>\n",
       "      <th>5</th>\n",
       "      <td>0.744139</td>\n",
       "      <td>0.122379</td>\n",
       "      <td>0.479161</td>\n",
       "      <td>0.340092</td>\n",
       "      <td>0.647387</td>\n",
       "      <td>0.851818</td>\n",
       "    </tr>\n",
       "    <tr>\n",
       "      <th>6</th>\n",
       "      <td>0.021169</td>\n",
       "      <td>0.721587</td>\n",
       "      <td>0.166229</td>\n",
       "      <td>0.550258</td>\n",
       "      <td>0.411443</td>\n",
       "      <td>0.088849</td>\n",
       "    </tr>\n",
       "  </tbody>\n",
       "</table>\n",
       "</div>"
      ],
      "text/plain": [
       "   column_1  column_2  column_3  column_4  column_5  column_6\n",
       "1  0.527965  0.450380  0.335064  0.750702  0.724437  0.220331\n",
       "2  0.138438  0.859205  0.576562  0.384365  0.934960  0.608641\n",
       "3  0.664067  0.891863  0.290135  0.946281  0.191536  0.489732\n",
       "4  0.907930  0.990685  0.436894  0.191321  0.674117  0.497952\n",
       "5  0.744139  0.122379  0.479161  0.340092  0.647387  0.851818\n",
       "6  0.021169  0.721587  0.166229  0.550258  0.411443  0.088849"
      ]
     },
     "execution_count": 17,
     "metadata": {},
     "output_type": "execute_result"
    }
   ],
   "source": [
    "df1"
   ]
  },
  {
   "cell_type": "code",
   "execution_count": 18,
   "id": "430a37fe-a73f-4069-9d2a-80eb799dfb90",
   "metadata": {},
   "outputs": [
    {
     "name": "stdout",
     "output_type": "stream",
     "text": [
      "Q_4_ANS:- i \n"
     ]
    }
   ],
   "source": [
    "print(\"Q_4_ANS:- i \")"
   ]
  },
  {
   "cell_type": "code",
   "execution_count": 19,
   "id": "f5675794-c61f-49ed-aa3b-cb6e46d36c8b",
   "metadata": {},
   "outputs": [
    {
     "data": {
      "text/plain": [
       "column_1    0.500618\n",
       "column_2    0.672683\n",
       "column_3    0.380674\n",
       "column_4    0.527170\n",
       "column_5    0.597313\n",
       "column_6    0.459554\n",
       "dtype: float64"
      ]
     },
     "execution_count": 19,
     "metadata": {},
     "output_type": "execute_result"
    }
   ],
   "source": [
    "df1.mean()"
   ]
  },
  {
   "cell_type": "code",
   "execution_count": 20,
   "id": "45a7fc6d-2f53-4b7d-88d2-f153992f6cf7",
   "metadata": {},
   "outputs": [
    {
     "name": "stdout",
     "output_type": "stream",
     "text": [
      "Q_4_ANS:- ii \n"
     ]
    }
   ],
   "source": [
    "print(\"Q_4_ANS:- ii \")"
   ]
  },
  {
   "cell_type": "code",
   "execution_count": 21,
   "id": "71135c9b-348c-48d7-8f93-c0071f1f0b13",
   "metadata": {},
   "outputs": [
    {
     "data": {
      "text/plain": [
       "0.3282073787549992"
      ]
     },
     "execution_count": 21,
     "metadata": {},
     "output_type": "execute_result"
    }
   ],
   "source": [
    "df1['column_2'].std()"
   ]
  },
  {
   "cell_type": "code",
   "execution_count": 22,
   "id": "9e1f4861-28a1-4f00-9a03-168e4b2381e5",
   "metadata": {},
   "outputs": [
    {
     "name": "stdout",
     "output_type": "stream",
     "text": [
      "Q_5_ANS:-  \n"
     ]
    }
   ],
   "source": [
    "print(\"Q_5_ANS:-  \")"
   ]
  },
  {
   "cell_type": "code",
   "execution_count": 23,
   "id": "912176f6-4bd7-4294-a4e2-2036566a391b",
   "metadata": {},
   "outputs": [],
   "source": [
    "df1.at[2, 'column_2'] = 'hello'"
   ]
  },
  {
   "cell_type": "code",
   "execution_count": 24,
   "id": "326ca511-86ae-45f2-9476-72027646baff",
   "metadata": {},
   "outputs": [],
   "source": [
    "df1['column_2'] = pd.to_numeric(df1['column_2'], errors='coerce')"
   ]
  },
  {
   "cell_type": "code",
   "execution_count": 25,
   "id": "7d739e8e-c59a-46b8-b2e4-bb9b88b27cbb",
   "metadata": {},
   "outputs": [],
   "source": [
    "column_2_mean = df1['column_2'].mean()"
   ]
  },
  {
   "cell_type": "code",
   "execution_count": 26,
   "id": "6e830fd3-6c99-4842-aedb-b1c10f4063a7",
   "metadata": {},
   "outputs": [
    {
     "data": {
      "text/html": [
       "<div>\n",
       "<style scoped>\n",
       "    .dataframe tbody tr th:only-of-type {\n",
       "        vertical-align: middle;\n",
       "    }\n",
       "\n",
       "    .dataframe tbody tr th {\n",
       "        vertical-align: top;\n",
       "    }\n",
       "\n",
       "    .dataframe thead th {\n",
       "        text-align: right;\n",
       "    }\n",
       "</style>\n",
       "<table border=\"1\" class=\"dataframe\">\n",
       "  <thead>\n",
       "    <tr style=\"text-align: right;\">\n",
       "      <th></th>\n",
       "      <th>column_1</th>\n",
       "      <th>column_2</th>\n",
       "      <th>column_3</th>\n",
       "      <th>column_4</th>\n",
       "      <th>column_5</th>\n",
       "      <th>column_6</th>\n",
       "    </tr>\n",
       "  </thead>\n",
       "  <tbody>\n",
       "    <tr>\n",
       "      <th>1</th>\n",
       "      <td>0.527965</td>\n",
       "      <td>0.45038</td>\n",
       "      <td>0.335064</td>\n",
       "      <td>0.750702</td>\n",
       "      <td>0.724437</td>\n",
       "      <td>0.220331</td>\n",
       "    </tr>\n",
       "    <tr>\n",
       "      <th>2</th>\n",
       "      <td>0.138438</td>\n",
       "      <td>yash</td>\n",
       "      <td>0.576562</td>\n",
       "      <td>0.384365</td>\n",
       "      <td>0.934960</td>\n",
       "      <td>0.608641</td>\n",
       "    </tr>\n",
       "    <tr>\n",
       "      <th>3</th>\n",
       "      <td>0.664067</td>\n",
       "      <td>0.891863</td>\n",
       "      <td>0.290135</td>\n",
       "      <td>0.946281</td>\n",
       "      <td>0.191536</td>\n",
       "      <td>0.489732</td>\n",
       "    </tr>\n",
       "    <tr>\n",
       "      <th>4</th>\n",
       "      <td>0.907930</td>\n",
       "      <td>0.990685</td>\n",
       "      <td>0.436894</td>\n",
       "      <td>0.191321</td>\n",
       "      <td>0.674117</td>\n",
       "      <td>0.497952</td>\n",
       "    </tr>\n",
       "    <tr>\n",
       "      <th>5</th>\n",
       "      <td>0.744139</td>\n",
       "      <td>0.122379</td>\n",
       "      <td>0.479161</td>\n",
       "      <td>0.340092</td>\n",
       "      <td>0.647387</td>\n",
       "      <td>0.851818</td>\n",
       "    </tr>\n",
       "    <tr>\n",
       "      <th>6</th>\n",
       "      <td>0.021169</td>\n",
       "      <td>0.721587</td>\n",
       "      <td>0.166229</td>\n",
       "      <td>0.550258</td>\n",
       "      <td>0.411443</td>\n",
       "      <td>0.088849</td>\n",
       "    </tr>\n",
       "  </tbody>\n",
       "</table>\n",
       "</div>"
      ],
      "text/plain": [
       "   column_1  column_2  column_3  column_4  column_5  column_6\n",
       "1  0.527965   0.45038  0.335064  0.750702  0.724437  0.220331\n",
       "2  0.138438      yash  0.576562  0.384365  0.934960  0.608641\n",
       "3  0.664067  0.891863  0.290135  0.946281  0.191536  0.489732\n",
       "4  0.907930  0.990685  0.436894  0.191321  0.674117  0.497952\n",
       "5  0.744139  0.122379  0.479161  0.340092  0.647387  0.851818\n",
       "6  0.021169  0.721587  0.166229  0.550258  0.411443  0.088849"
      ]
     },
     "execution_count": 26,
     "metadata": {},
     "output_type": "execute_result"
    }
   ],
   "source": [
    "df1.fillna('yash')"
   ]
  },
  {
   "cell_type": "code",
   "execution_count": 27,
   "id": "45320003-945b-4e2a-9d28-4760ae3b8ad7",
   "metadata": {},
   "outputs": [
    {
     "name": "stdout",
     "output_type": "stream",
     "text": [
      "Mean of column 'column_2': 0.6353789244197624\n"
     ]
    }
   ],
   "source": [
    "print(\"Mean of column 'column_2':\", column_2_mean)"
   ]
  },
  {
   "cell_type": "code",
   "execution_count": 38,
   "id": "f0dd56e9-47cd-483d-9545-397dd8bdd581",
   "metadata": {},
   "outputs": [
    {
     "name": "stdout",
     "output_type": "stream",
     "text": [
      "Q_6_ANS:- Windows :- Pandas Window functions are functions where the input values are taken from a “window” of one or more rows in a series or a table and calculation is performed over them. The word window means the number of rows between the two boundaries by which we perform calculations including the boundary rows. \n",
      "\n",
      "List of windows function :- \n",
      "\n",
      "Rolling window\n",
      "Weighted window\n",
      "Expanding window\n",
      "Exponentially Weighted window\n"
     ]
    }
   ],
   "source": [
    "print(\"Q_6_ANS:- Windows :- Pandas Window functions are functions where the input values are taken from a “window” of one or more rows in a series or a table and calculation is performed over them. The word window means the number of rows between the two boundaries by which we perform calculations including the boundary rows. \\n\\nList of windows function :- \\n\\nRolling window\\nWeighted window\\nExpanding window\\nExponentially Weighted window\")"
   ]
  },
  {
   "cell_type": "code",
   "execution_count": 30,
   "id": "e1497c58-bd23-4b87-a1a9-54cdda9ade45",
   "metadata": {},
   "outputs": [
    {
     "name": "stdout",
     "output_type": "stream",
     "text": [
      "Q_7_ANS:-  \n"
     ]
    }
   ],
   "source": [
    "print(\"Q_7_ANS:-  \")"
   ]
  },
  {
   "cell_type": "code",
   "execution_count": 33,
   "id": "13e64909-08d8-409c-ac8c-e91bbed66340",
   "metadata": {},
   "outputs": [],
   "source": [
    "from datetime import datetime "
   ]
  },
  {
   "cell_type": "code",
   "execution_count": 34,
   "id": "f4c071c0-faf5-4775-8ede-93592a669725",
   "metadata": {},
   "outputs": [
    {
     "data": {
      "text/html": [
       "<div>\n",
       "<style scoped>\n",
       "    .dataframe tbody tr th:only-of-type {\n",
       "        vertical-align: middle;\n",
       "    }\n",
       "\n",
       "    .dataframe tbody tr th {\n",
       "        vertical-align: top;\n",
       "    }\n",
       "\n",
       "    .dataframe thead th {\n",
       "        text-align: right;\n",
       "    }\n",
       "</style>\n",
       "<table border=\"1\" class=\"dataframe\">\n",
       "  <thead>\n",
       "    <tr style=\"text-align: right;\">\n",
       "      <th></th>\n",
       "      <th>Month</th>\n",
       "      <th>Year</th>\n",
       "    </tr>\n",
       "  </thead>\n",
       "  <tbody>\n",
       "    <tr>\n",
       "      <th>0</th>\n",
       "      <td>4</td>\n",
       "      <td>2023</td>\n",
       "    </tr>\n",
       "  </tbody>\n",
       "</table>\n",
       "</div>"
      ],
      "text/plain": [
       "   Month  Year\n",
       "0      4  2023"
      ]
     },
     "execution_count": 34,
     "metadata": {},
     "output_type": "execute_result"
    }
   ],
   "source": [
    "now = datetime.now()\n",
    "current_month = now.month\n",
    "current_year = now.year\n",
    "df = pd.DataFrame({'Month': [current_month], 'Year': [current_year]})\n",
    "df"
   ]
  },
  {
   "cell_type": "code",
   "execution_count": 37,
   "id": "f56c408a-30f0-46c8-b3bc-56789bd6505c",
   "metadata": {},
   "outputs": [
    {
     "name": "stdout",
     "output_type": "stream",
     "text": [
      "Q_8_ANS:-  \n"
     ]
    }
   ],
   "source": [
    "print(\"Q_8_ANS:-  \")"
   ]
  },
  {
   "cell_type": "code",
   "execution_count": 77,
   "id": "0fb59d1d-f1a4-421c-9717-025d61b4a0b9",
   "metadata": {},
   "outputs": [
    {
     "name": "stdout",
     "output_type": "stream",
     "text": [
      "difference in hours: 3.5\n",
      "difference in minutes: 210.0\n",
      "Difference in days :-  64\n"
     ]
    }
   ],
   "source": [
    "def calculate(date1,date2,time1,time2):\n",
    "    d1 = pd.to_datetime(date1)\n",
    "    d2 = pd.to_datetime(date2)\n",
    "    t1 = pd.to_datetime(time1)\n",
    "    t2 = pd.to_datetime(time2)\n",
    "    delta = t2 - t1\n",
    "    sec = delta.total_seconds()\n",
    "    hours = sec / (60 * 60)\n",
    "    print('difference in hours:', hours)\n",
    "    min = sec / 60\n",
    "    print('difference in minutes:', min)\n",
    "    print ('Difference in days :- ',pd.Timedelta(d2 - d1).days)\n",
    "\n",
    "d1 = '2023/3/1'\n",
    "d2 = '2023/5/4'\n",
    "t1 = '06:00:00'\n",
    "t2 = '09:30:00'\n",
    "calculate(d1,d2,t1,t2)"
   ]
  },
  {
   "cell_type": "code",
   "execution_count": 78,
   "id": "49d343b3-9144-4b50-8308-33e287b29f34",
   "metadata": {},
   "outputs": [
    {
     "name": "stdout",
     "output_type": "stream",
     "text": [
      "Q_9_ANS:-  \n"
     ]
    }
   ],
   "source": [
    "print(\"Q_9_ANS:-  \")"
   ]
  },
  {
   "cell_type": "code",
   "execution_count": 11,
   "id": "0c9b272d-8af6-4465-850d-9bc7ebe6a83e",
   "metadata": {},
   "outputs": [
    {
     "name": "stdin",
     "output_type": "stream",
     "text": [
      "Enter the file path:  data.csv\n",
      "Enter the column name:  Color\n",
      "Enter the category order (comma-separated):  Red ,Green , Blue\n"
     ]
    },
    {
     "name": "stdout",
     "output_type": "stream",
     "text": [
      "   Unnamed: 0  Item  Color  Quantity  Unnamed: 4\n",
      "0           0     1    Red        10         NaN\n",
      "1           1     2    Red         5         NaN\n",
      "2           2     3  Green        20         NaN\n",
      "3           3     4   Blue        15         NaN\n"
     ]
    }
   ],
   "source": [
    "\n",
    "file_path = input(\"Enter the file path: \")\n",
    "column_name = input(\"Enter the column name: \")\n",
    "category_order = input(\"Enter the category order (comma-separated): \")\n",
    "category_order = [x.strip() for x in category_order.split(\",\")]\n",
    "\n",
    "data = pd.read_csv(file_path)\n",
    "\n",
    "data[column_name] = pd.Categorical(data[column_name], categories=category_order, ordered=True)\n",
    "\n",
    "data_sorted = data.sort_values(by=column_name)\n",
    "\n",
    "print(data_sorted)\n"
   ]
  },
  {
   "cell_type": "code",
   "execution_count": 5,
   "id": "9be46f5c-e749-44b5-98d9-634637415d6e",
   "metadata": {},
   "outputs": [
    {
     "name": "stdout",
     "output_type": "stream",
     "text": [
      "Q_10_ANS:-  \n"
     ]
    }
   ],
   "source": [
    "print(\"Q_10_ANS:-  \")"
   ]
  },
  {
   "cell_type": "code",
   "execution_count": 12,
   "id": "522f74a7-dc24-4f1b-b182-3515d7a7bc06",
   "metadata": {},
   "outputs": [
    {
     "name": "stdin",
     "output_type": "stream",
     "text": [
      "Enter the file path:  Data_sale.csv\n"
     ]
    },
    {
     "data": {
      "image/png": "[encoded data removed]",
      "text/plain": [
       "<Figure size 640x480 with 1 Axes>"
      ]
     },
     "metadata": {},
     "output_type": "display_data"
    }
   ],
   "source": [
    "import matplotlib.pyplot as plt\n",
    "\n",
    "file_path = input(\"Enter the file path: \")\n",
    "\n",
    "df = pd.read_csv(file_path)\n",
    "\n",
    "df['Date'] = pd.to_datetime(df['Date'])\n",
    "\n",
    "pivot = pd.pivot_table(df, values='Sales', index=df['Date'].dt.strftime('%Y-%m'), columns='Category', aggfunc='sum')\n",
    "\n",
    "pivot.plot(kind='bar', stacked=True)\n",
    "\n",
    "plt.title('Sales by Category over Time')\n",
    "plt.xlabel('Month')\n",
    "plt.ylabel('Sales')\n",
    "\n",
    "plt.show()\n"
   ]
  },
  {
   "cell_type": "code",
   "execution_count": 13,
   "id": "d322b9f2-0b0a-4129-a495-f27da51cd701",
   "metadata": {},
   "outputs": [
    {
     "name": "stdout",
     "output_type": "stream",
     "text": [
      "Q_11_ANS:-  \n"
     ]
    }
   ],
   "source": [
    "print(\"Q_11_ANS:-  \")"
   ]
  },
  {
   "cell_type": "code",
   "execution_count": 30,
   "id": "b42451f8-2cb4-4ccd-9b1a-8a9477ab0869",
   "metadata": {},
   "outputs": [],
   "source": [
    "data =  {'Student_id':[1,2,3,4,5,6,7,8,9,10],'Test Score':[85,90,80,75,85,82,78,85,90,85]}"
   ]
  },
  {
   "cell_type": "code",
   "execution_count": 31,
   "id": "e4a60a72-04fa-427c-8e98-6bb23f98c803",
   "metadata": {},
   "outputs": [],
   "source": [
    "df = pd.DataFrame(data)"
   ]
  },
  {
   "cell_type": "code",
   "execution_count": 32,
   "id": "8061be9c-f018-432f-87bd-c5d438fbde41",
   "metadata": {},
   "outputs": [],
   "source": [
    "df.to_csv(\"Student.csv\")"
   ]
  },
  {
   "cell_type": "code",
   "execution_count": 35,
   "id": "8c94128b-fa52-4b3e-8179-b7589c05069b",
   "metadata": {},
   "outputs": [
    {
     "data": {
      "text/plain": [
       "83.5"
      ]
     },
     "execution_count": 35,
     "metadata": {},
     "output_type": "execute_result"
    }
   ],
   "source": [
    "df['Test Score'].mean()"
   ]
  },
  {
   "cell_type": "code",
   "execution_count": 36,
   "id": "1e03b7d6-9bf5-4fbb-94e2-836ab6089a90",
   "metadata": {},
   "outputs": [
    {
     "data": {
      "text/plain": [
       "85.0"
      ]
     },
     "execution_count": 36,
     "metadata": {},
     "output_type": "execute_result"
    }
   ],
   "source": [
    "df['Test Score'].median()"
   ]
  },
  {
   "cell_type": "code",
   "execution_count": 37,
   "id": "113c44da-0a2a-4ada-bf30-eeaa1012b1c1",
   "metadata": {},
   "outputs": [
    {
     "data": {
      "text/plain": [
       "0    85\n",
       "Name: Test Score, dtype: int64"
      ]
     },
     "execution_count": 37,
     "metadata": {},
     "output_type": "execute_result"
    }
   ],
   "source": [
    "df['Test Score'].mode()"
   ]
  },
  {
   "cell_type": "code",
   "execution_count": 33,
   "id": "be36eaa1-55dd-4d7d-95ae-a9775b4f0f1e",
   "metadata": {},
   "outputs": [
    {
     "name": "stdin",
     "output_type": "stream",
     "text": [
      "Enter the file path of the CSV file containing the student data:  Student.csv\n"
     ]
    },
    {
     "name": "stdout",
     "output_type": "stream",
     "text": [
      "  Statistic Value\n",
      "0      Mean  83.5\n",
      "1    Median  85.0\n",
      "2      Mode  [85]\n"
     ]
    }
   ],
   "source": [
    "import pandas as pd\n",
    "\n",
    "# Prompt the user to enter the file path of the CSV file\n",
    "file_path = input(\"Enter the file path of the CSV file containing the student data: \")\n",
    "\n",
    "# Read the CSV file into a Pandas DataFrame\n",
    "df = pd.read_csv(file_path)\n",
    "\n",
    "# Calculate the mean, median, and mode of the test scores using Pandas tools\n",
    "mean_score = df['Test Score'].mean()\n",
    "median_score = df['Test Score'].median()\n",
    "mode_score = df['Test Score'].mode().tolist()\n",
    "\n",
    "# Display the mean, median, and mode in a table\n",
    "table = pd.DataFrame({'Statistic': ['Mean', 'Median', 'Mode'], 'Value': [mean_score, median_score, mode_score]})\n",
    "print(table)\n"
   ]
  },
  {
   "cell_type": "code",
   "execution_count": null,
   "id": "e20d9f23-20e5-4c5c-9ebb-951a39c59e38",
   "metadata": {},
   "outputs": [],
   "source": []
  }
 ],
 "metadata": {
  "kernelspec": {
   "display_name": "Python 3 (ipykernel)",
   "language": "python",
   "name": "python3"
  },
  "language_info": {
   "codemirror_mode": {
    "name": "ipython",
    "version": 3
   },
   "file_extension": ".py",
   "mimetype": "text/x-python",
   "name": "python",
   "nbconvert_exporter": "python",
   "pygments_lexer": "ipython3",
   "version": "3.10.6"
  }
 },
 "nbformat": 4,
 "nbformat_minor": 5
}
